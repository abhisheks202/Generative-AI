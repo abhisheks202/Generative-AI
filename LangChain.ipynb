{
 "cells": [
  {
   "cell_type": "markdown",
   "id": "290ac038",
   "metadata": {},
   "source": [
    "## To get the predictions from a Language Model"
   ]
  },
  {
   "cell_type": "code",
   "execution_count": null,
   "id": "239bd8f9",
   "metadata": {},
   "outputs": [],
   "source": [
    "!pip install langchain"
   ]
  },
  {
   "cell_type": "code",
   "execution_count": null,
   "id": "47ec3797",
   "metadata": {},
   "outputs": [],
   "source": [
    "import os\n",
    "os.environ[\"OPENAI_API_KEY\"]=\"\""
   ]
  },
  {
   "cell_type": "code",
   "execution_count": null,
   "id": "8a54f15a",
   "metadata": {},
   "outputs": [],
   "source": [
    "from langchain.llms import OpenAI"
   ]
  },
  {
   "cell_type": "code",
   "execution_count": null,
   "id": "2c34160a",
   "metadata": {},
   "outputs": [],
   "source": [
    "# temperature is the amount of randomness. if it is 0 then it will make the model as deterministic, ie., we get same result\n",
    "# over and over.\n",
    "\n",
    "llm=OpenAI(temperature=0.8) "
   ]
  },
  {
   "cell_type": "code",
   "execution_count": null,
   "id": "fe47679c",
   "metadata": {},
   "outputs": [],
   "source": [
    "#create a prompt\n",
    "prompt_text = \"What is the best search engine ?\""
   ]
  },
  {
   "cell_type": "code",
   "execution_count": null,
   "id": "2a93a033",
   "metadata": {},
   "outputs": [],
   "source": [
    "print(llm(prompt_text))"
   ]
  },
  {
   "cell_type": "markdown",
   "id": "5bd1cdd8",
   "metadata": {},
   "source": [
    "## Prompt templates: Manage prompts for LLMs"
   ]
  },
  {
   "cell_type": "code",
   "execution_count": null,
   "id": "7efc0779",
   "metadata": {},
   "outputs": [],
   "source": [
    "from langchain.prompts import PromptTemplate"
   ]
  },
  {
   "cell_type": "code",
   "execution_count": null,
   "id": "a6b57c4f",
   "metadata": {},
   "outputs": [],
   "source": []
  },
  {
   "cell_type": "code",
   "execution_count": null,
   "id": "9e5396e0",
   "metadata": {},
   "outputs": [],
   "source": []
  },
  {
   "cell_type": "code",
   "execution_count": null,
   "id": "6380569b",
   "metadata": {},
   "outputs": [],
   "source": []
  },
  {
   "cell_type": "code",
   "execution_count": null,
   "id": "a918f206",
   "metadata": {},
   "outputs": [],
   "source": []
  }
 ],
 "metadata": {
  "kernelspec": {
   "display_name": "Python 3 (ipykernel)",
   "language": "python",
   "name": "python3"
  },
  "language_info": {
   "codemirror_mode": {
    "name": "ipython",
    "version": 3
   },
   "file_extension": ".py",
   "mimetype": "text/x-python",
   "name": "python",
   "nbconvert_exporter": "python",
   "pygments_lexer": "ipython3",
   "version": "3.10.9"
  }
 },
 "nbformat": 4,
 "nbformat_minor": 5
}
